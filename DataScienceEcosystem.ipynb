{
 "cells": [
  {
   "cell_type": "markdown",
   "id": "0c981770-35ab-4659-a637-5f83011f77f4",
   "metadata": {},
   "source": [
    "# Data Science Tools and Ecosystem"
   ]
  },
  {
   "cell_type": "markdown",
   "id": "32fa1fdd-3220-45c8-8247-e048753664f7",
   "metadata": {},
   "source": [
    "## In this notebook, Data Science Tools and Ecosystem are summarized."
   ]
  },
  {
   "cell_type": "markdown",
   "id": "a1623529-2658-446c-935e-2bf52eaa57c8",
   "metadata": {},
   "source": [
    "#### Some of the popular languages that Data Scientists use are:\n",
    "1. Python\n",
    "2. R\n",
    "3. SQL"
   ]
  },
  {
   "cell_type": "markdown",
   "id": "cdea1d1f-6934-470c-b459-bc8f5dad106d",
   "metadata": {},
   "source": [
    "#### Some of the commonly used libraries used by Data Scientists include:\n",
    "1. Pandas\n",
    "2. Numpy\n",
    "3. Keras\n",
    "4. Tensorflow\n",
    "5. Matplotlib\n",
    "6. Seaborn"
   ]
  },
  {
   "cell_type": "markdown",
   "id": "a0c3c1e9-50c5-4d0d-8cbd-c242e3c125f7",
   "metadata": {},
   "source": [
    "#### Table:"
   ]
  },
  {
   "cell_type": "markdown",
   "id": "b505f286-c811-43f2-8f25-13b3ac7c7b20",
   "metadata": {},
   "source": [
    "|Data Science Tools|\n",
    "--------------------\n",
    "|Jupyter Notebook|\n",
    "|R studio|\n",
    "|Apache Zeppelin|"
   ]
  },
  {
   "cell_type": "markdown",
   "id": "9fa11648-4f9e-4674-bae8-65d09e300238",
   "metadata": {},
   "source": [
    "### Below are a few examples of evaluating arithmetic expressions in Python.\n"
   ]
  },
  {
   "cell_type": "code",
   "execution_count": 11,
   "id": "9a0668b9-1023-47dd-836c-37a3849297de",
   "metadata": {
    "tags": []
   },
   "outputs": [
    {
     "data": {
      "text/plain": [
       "17"
      ]
     },
     "execution_count": 11,
     "metadata": {},
     "output_type": "execute_result"
    }
   ],
   "source": [
    "(3*4)+5                   # This a simple arithmetic expression to mutiply then add integers"
   ]
  },
  {
   "cell_type": "code",
   "execution_count": 17,
   "id": "e916633d-9c03-45c2-b59c-db59e574bd3a",
   "metadata": {
    "tags": []
   },
   "outputs": [
    {
     "data": {
      "text/plain": [
       "3"
      ]
     },
     "execution_count": 17,
     "metadata": {},
     "output_type": "execute_result"
    }
   ],
   "source": [
    "200//60  #This will convert 200 minutes to hours by diving by 60"
   ]
  },
  {
   "cell_type": "markdown",
   "id": "2ce50891-1aff-4b22-b926-4e8baf92e14c",
   "metadata": {},
   "source": [
    "**Objectives:**\n"
   ]
  },
  {
   "cell_type": "markdown",
   "id": "64f21e1a-60ba-4638-b226-a09a6e3f3582",
   "metadata": {},
   "source": [
    "- List of Languages used for data science\n",
    "- Libraries used for data science\n",
    "- Performed some Arithmetic expressions in Python\n",
    "- Representation of how to create Table,lists and headings"
   ]
  },
  {
   "cell_type": "markdown",
   "id": "8f95ef24-1462-4e6f-aee2-8117437f51a7",
   "metadata": {},
   "source": [
    "## Author\n",
    "Priyanka U Lamani"
   ]
  }
 ],
 "metadata": {
  "kernelspec": {
   "display_name": "Python",
   "language": "python",
   "name": "conda-env-python-py"
  },
  "language_info": {
   "codemirror_mode": {
    "name": "ipython",
    "version": 3
   },
   "file_extension": ".py",
   "mimetype": "text/x-python",
   "name": "python",
   "nbconvert_exporter": "python",
   "pygments_lexer": "ipython3",
   "version": "3.7.12"
  }
 },
 "nbformat": 4,
 "nbformat_minor": 5
}
